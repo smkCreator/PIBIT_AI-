{
 "cells": [
  {
   "cell_type": "markdown",
   "id": "074d4b3f-7ed3-4fb4-802a-623de0c1a495",
   "metadata": {},
   "source": [
    "### name:Shahriar Mumin Khan    college:LPU (12111724)   gmail :iamsmk99@gmail.com\n",
    "## Here I have give the prompt and used the openai API for the same purpose . \n",
    "### I am also pasting the output at the last box directly , because of the usage limit of the API calls .\n",
    "### Hope to join your team soon \n",
    "#### Thanks ."
   ]
  },
  {
   "cell_type": "code",
   "execution_count": null,
   "id": "f854d477-c67d-4303-b215-39dfe09991bc",
   "metadata": {},
   "outputs": [],
   "source": [
    "pip install openai"
   ]
  },
  {
   "cell_type": "code",
   "execution_count": null,
   "id": "6db1d0e7-5179-440c-b158-6d431081b28d",
   "metadata": {},
   "outputs": [],
   "source": [
    "import openai\n",
    "import os\n",
    "import json"
   ]
  },
  {
   "cell_type": "code",
   "execution_count": null,
   "id": "4af5edb4-3d18-4415-a5a6-b527a434dc0d",
   "metadata": {},
   "outputs": [],
   "source": [
    "openai.api_key = os.getenv(\"MY_CHATGPT_PIBITAI_KEY\")"
   ]
  },
  {
   "cell_type": "code",
   "execution_count": null,
   "id": "539c966f-77d2-41c6-a34a-4cce245b2adb",
   "metadata": {},
   "outputs": [],
   "source": [
    "resume_text= \"\"\"\n",
    "Shahriar Mumin Khan\n",
    "Karimganj , Assam , 788711\n",
    "9859063588 iamsmk99@gmail.com www.linkedin.com/in/smkcreator www.github.com/smkCreator\n",
    "Projects\n",
    "YouTube Comment Analysis and Classification | Python, Natural Language Processing (NLP), Machine Learning (ML) JUL-NOV 23\n",
    "- Extracted and preprocessed comments from YouTube videos, applying NLP techniques for text processing\n",
    "and sentiment analysis.\n",
    "- Implemented machine learning algorithms (Naive Bayes, Random Forest, SVM) for comment classification,\n",
    "achieving up to 87% accuracy.\n",
    "- Visualized findings using Matplotlib and Seaborn to present insights and trends.\n",
    "- Github repository Link : https://github.com/smkCreator/Yt_NLP\n",
    "Vaccination Shot Prediction| Python , Machine Learning (ML) , Exploratory Data Analysis (EDA) Aug - Nov 23\n",
    "• Developed and compared various machine learning models for vaccination shot prediction to optimize resource\n",
    "allocation, timely intervention, and effective disease control by anticipating demand ,willingness and risk groups by\n",
    "healthcare authorities .\n",
    "• After data cleaning , feature extraction and EDA , applied various ML algorithms like Random Forest, Support Vector\n",
    "Machine(SVM) and Logistic Regression,etc for vaccination prediction .\n",
    "• Random Forest achieved a Receiver Operating Characteristic (ROC) score of 0.8213 . Logistic Regression achieved a ROC\n",
    "score of 0.8363 . SVM achieved a ROC score of 0.8397.\n",
    "• Github Repository Link: https://github.com/smkCreator/Vaccine_ML\n",
    "Sales and Supply Analysis | Python , Exploratory Data Analysis (EDA) ,Data Science July 2023\n",
    "• Implemented data science techniques on sales and supply data for the purpose of gaining practical and business insights .\n",
    "• Leveraged data visualization libraries Matplotlib and Seaborn to analyze and present correlations between various\n",
    "routes taken , production volumes and demand met , revenue and loss incurred ,defect rates and possible\n",
    "solutions to improve .\n",
    "• Discovered that availability leads the sales much more than price factor , shipping through air causes the least\n",
    "defect rates , and road costs the most to ship , as well as carrier B is the worst performer in terms of price of\n",
    "shipping .\n",
    "• Github Repository Link: https://github.com/smkCreator/startup_EDA\n",
    "Certificates\n",
    "• Introduction to MongoDB | MongoDB | july 24\n",
    "• Introduction to Statistics |Coursera | May 23\n",
    "• The Complete Theory of Computation | Udemy |Oct 23\n",
    "• The Bits and Bytes of Computer Networking by google | Coursera | June 23\n",
    "• Foundations of Cybersecurity by google | Coursera | jan 24\n",
    "Achievements\n",
    "• Finalist in Proxmed Machine Learning Hackathon\n",
    "• 5 Star Rating in Java and Sql on HackerRank\n",
    "• Currently in the top 10% Dean’s list in college\n",
    "• Solved more than 300+ programming questions in leetcode and HackerRank\n",
    "Technical Skills\n",
    "Languages : Java, Python , HTML\n",
    "Technologies/Frameworks: Pandas, Matplotlib, Seaborn, Tensorflow, Keras, sklearn, BeautifulSoup ,PyTorch\n",
    "Skills : Data Structures and Algorithms, Problem-Solving, Data Analysis, Machine Learning , Natural Language Processing\n",
    "Data Management: MySQL, MongoDB\n",
    "Education\n",
    "Lovely Professional University Punjab 2021 – 2025\n",
    "Computer Science and Engineering (specialization in AI and ML) — 74.3 % Phagwara , Punjab\n",
    "Tarabushan Pal Junior College Of Science 2018\n",
    "12th with Science — 78% Karimganj , Assam\n",
    "Rowlands Memorial High School | 10th — 8 4 . 2 % 2016\n",
    "Karimganj , Assam  \"\"\""
   ]
  },
  {
   "cell_type": "code",
   "execution_count": null,
   "id": "cea45c3d-4209-457e-b82d-9bef41fd25fa",
   "metadata": {},
   "outputs": [],
   "source": [
    "\n",
    "prompt = f\"\"\"\n",
    "Given the following resume text, convert the information into a structured JSON format. \n",
    "Ensure that all relevant sections like personal information, projects, education, \n",
    "and skills are accurately captured. The resume will start with the name then the address consisting of district name , state and pin code .\n",
    "It will be followed by phone number , linkedin and github ids . Following which there will be projects . Each project will have a title, then the domain\n",
    "and dates of them , following this each project will have some point wise description of aim/idea , and other parameters like models used and work done \n",
    "with success rate .AT the end of each project there will be a github repository link of it . \n",
    "After the projects section there will be certificates , each point starts with the name , then the platform and the date on which it is done \n",
    "This will be followed by a section of achievements .\n",
    "Then technical skills , which will contain programing languages , frameworks , skills and data management systems .\n",
    "Following this there will be education : consisting of institute name , year of joining and passing and the course opted for if applicable \n",
    "and the result and the place of the institute .\n",
    "\n",
    "Get all these details in a structured and complete JSON format . Following is the resume text : \n",
    "\n",
    "{resume_text}\n",
    "\n",
    "Now, provide the JSON output:\n",
    "\"\"\"\n",
    "\n"
   ]
  },
  {
   "cell_type": "code",
   "execution_count": null,
   "id": "c5341323-a138-4668-8032-f847555fc203",
   "metadata": {},
   "outputs": [],
   "source": []
  }
 ],
 "metadata": {
  "kernelspec": {
   "display_name": "Python 3 (ipykernel)",
   "language": "python",
   "name": "python3"
  },
  "language_info": {
   "codemirror_mode": {
    "name": "ipython",
    "version": 3
   },
   "file_extension": ".py",
   "mimetype": "text/x-python",
   "name": "python",
   "nbconvert_exporter": "python",
   "pygments_lexer": "ipython3",
   "version": "3.11.7"
  }
 },
 "nbformat": 4,
 "nbformat_minor": 5
}
